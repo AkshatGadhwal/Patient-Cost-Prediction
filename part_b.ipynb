{
 "cells": [
  {
   "cell_type": "code",
   "execution_count": 3,
   "metadata": {},
   "outputs": [],
   "source": [
    "import pandas as pd\n",
    "import numpy as np\n",
    "import scipy as sp\n",
    "import math"
   ]
  },
  {
   "cell_type": "code",
   "execution_count": 4,
   "metadata": {},
   "outputs": [],
   "source": [
    "df0 = pd.read_csv(\"data/train.csv\")\n",
    "\n",
    "rows = len(df0.axes[0])\n",
    "width = len(df0.axes[1])\n",
    "#print(rows)\n",
    "#print(width)"
   ]
  },
  {
   "cell_type": "code",
   "execution_count": 5,
   "metadata": {},
   "outputs": [],
   "source": [
    "l = [1 for i in range(rows)]\n",
    "df0.insert(1,'b',l)"
   ]
  },
  {
   "cell_type": "code",
   "execution_count": 68,
   "metadata": {},
   "outputs": [],
   "source": [
    "def r2Score(w,x,y):\n",
    "    y_pred = np.matmul(x,w)\n",
    "    u = np.sum(np.square(y_pred-y))\n",
    "    v = np.sum(np.square(y - np.mean(y)))\n",
    "    err = 1-u/v\n",
    "    return err"
   ]
  },
  {
   "cell_type": "code",
   "execution_count": 6,
   "metadata": {},
   "outputs": [],
   "source": [
    "def err(x,w,y):\n",
    "    y_pred = np.matmul(x,w)\n",
    "    #pred_error = np.sum(np.square(y_pred - y))/np.sum(np.square(y))\n",
    "    k = np.linalg.norm(y_pred-y)/np.linalg.norm(y)\n",
    "    return k;"
   ]
  },
  {
   "cell_type": "code",
   "execution_count": 7,
   "metadata": {},
   "outputs": [],
   "source": [
    "def findWeight(x,y,lamb):\n",
    "    xt = x.transpose()\n",
    "    xtx = np.matmul(xt,x)\n",
    "    I = np.identity(len(xtx))\n",
    "    lamb_I = np.dot(lamb,I)\n",
    "    inv = np.linalg.inv(xtx+lamb_I)\n",
    "    a = np.matmul(inv,xt)\n",
    "    w = np.matmul(a,y)\n",
    "    return w\n"
   ]
  },
  {
   "cell_type": "code",
   "execution_count": 61,
   "metadata": {},
   "outputs": [],
   "source": [
    "def getOptimalWeightError(rows,lamb,df0):\n",
    "    #print(\"-----------\")\n",
    "    i = rows//10\n",
    "    errors = list()\n",
    "    #errors = np.array(errors)\n",
    "    for j in range(10):\n",
    "        start = i*j\n",
    "        end = i*(j+1)\n",
    "        \n",
    "        #test x and y\n",
    "        x_test = df0.iloc[start:end+1,1:-1].values\n",
    "        y_test = df0.iloc[start:end+1,-1].values\n",
    "        \n",
    "        \n",
    "        #train x\n",
    "        x_train1 = df0.iloc[:start,1:-1]\n",
    "        x_train2 = df0.iloc[end+1:,1:-1]\n",
    "        frames = [x_train1,x_train2]\n",
    "        x_train = pd.concat(frames).values\n",
    "        \n",
    "        #train y\n",
    "        y_train1 = df0.iloc[:start,-1]\n",
    "        y_train2 = df0.iloc[end+1:,-1]\n",
    "        frames = [y_train1,y_train2]\n",
    "        y_train = pd.concat(frames).values\n",
    "        \n",
    "        \n",
    "        #finding weight\n",
    "        y = np.array(y_train)\n",
    "        x = np.array(x_train)\n",
    "        w = findWeight(x,y,lamb)\n",
    "        \n",
    "        #print(w)\n",
    "        \n",
    "        #finding error\n",
    "        x_test = np.array(x_test)\n",
    "        y_test = np.array(y_test)\n",
    "        error = err(x_test,w,y_test)\n",
    "        \n",
    "        #print(x)\n",
    "        errors.append(error)\n",
    "        #np.append(errors, error)\n",
    "        \n",
    "        \n",
    "    \n",
    "    k = np.sum(np.square(errors))\n",
    "    k = math.sqrt(k)\n",
    "    #k = np.sum(errors)/len(errors)\n",
    "    #print(errors)\n",
    "            \n",
    "    #print(err_min)\n",
    "    #print(w)\n",
    "    return k\n",
    "    "
   ]
  },
  {
   "cell_type": "code",
   "execution_count": 62,
   "metadata": {},
   "outputs": [],
   "source": [
    "lamb_list = [0.001, 0.003, 0.01, 0.03, 0.1, 0.3, 1, 3, 10, 15, 20, 25, 30, 100, 300]"
   ]
  },
  {
   "cell_type": "code",
   "execution_count": 63,
   "metadata": {
    "scrolled": true
   },
   "outputs": [
    {
     "name": "stdout",
     "output_type": "stream",
     "text": [
      "1.867259597942479\n",
      "20\n",
      "[-4.23685123e+03  1.40415065e+02 -6.15219996e+01  1.40403529e-03\n",
      " -7.88299873e-01  1.32331875e+01 -8.25376731e+02 -1.15374761e+00\n",
      "  6.17084260e+02  2.86897999e+02 -2.55356635e+02  2.59926453e+03\n",
      "  4.03225072e+00 -2.33856698e+01 -1.85386625e+01 -2.03349862e+00\n",
      " -6.61890907e+00  8.79142075e+00 -2.64142490e+01 -4.45090611e-01\n",
      "  8.64995559e+02 -2.38099976e+02  1.41443781e+03 -1.04729531e+03\n",
      " -1.27691262e+03  1.28108182e+04 -1.15443860e+01  1.17646449e+02\n",
      "  7.01243989e+01  9.04243570e-02 -2.25875278e+03]\n"
     ]
    }
   ],
   "source": [
    "t = float('inf')\n",
    "lamb_min = 0\n",
    "for lamb in lamb_list:\n",
    "    k = getOptimalWeightError(rows,lamb,df0)\n",
    "    error = k\n",
    "    if error < t:\n",
    "        t = error\n",
    "        lamb_min = lamb\n",
    "        \n",
    "x = df0.iloc[:,1:-1].values\n",
    "y = df0.iloc[:,-1].values\n",
    "w_min = findWeight(x,y,lamb_min)\n",
    "#print(\"---\")\n",
    "print(t)\n",
    "print(lamb_min)\n",
    "print(w_min)\n",
    "    "
   ]
  },
  {
   "cell_type": "code",
   "execution_count": 28,
   "metadata": {},
   "outputs": [],
   "source": [
    "#testing"
   ]
  },
  {
   "cell_type": "code",
   "execution_count": 64,
   "metadata": {},
   "outputs": [],
   "source": [
    "w = w_min"
   ]
  },
  {
   "cell_type": "code",
   "execution_count": 65,
   "metadata": {},
   "outputs": [],
   "source": [
    "file = open(\"weightfile_b.txt\",\"w\")\n",
    "for i in w:\n",
    "    file.write(str(i))\n",
    "    file.write(\"\\n\")\n",
    "file.close()"
   ]
  },
  {
   "cell_type": "code",
   "execution_count": 66,
   "metadata": {},
   "outputs": [],
   "source": [
    "df2 = pd.read_csv(\"data/test.csv\")\n",
    "sh2 = len(df2)\n",
    "l2 = [1 for i in range(sh2)]\n",
    "df2.insert(1,'b',l2)\n",
    "xd2 = df2.iloc[:,1:]\n",
    "x2 = np.array(xd2)\n",
    "y = np.matmul(x2,w)\n",
    "#print(y.shape)"
   ]
  },
  {
   "cell_type": "code",
   "execution_count": 67,
   "metadata": {},
   "outputs": [],
   "source": [
    "file = open(\"outputfile_b.txt\",\"w\")\n",
    "for i in y:\n",
    "    file.write(str(i))\n",
    "    file.write(\"\\n\")\n",
    "file.close()"
   ]
  },
  {
   "cell_type": "code",
   "execution_count": 69,
   "metadata": {},
   "outputs": [],
   "source": [
    "df1 = pd.read_csv(\"data/train_large.csv\")\n",
    "\n",
    "rows_2 = len(df1.axes[0])\n",
    "width_2 = len(df1.axes[1])\n",
    "l_2 = [1 for i in range(rows_2)]\n",
    "df1.insert(1,'b',l_2)"
   ]
  },
  {
   "cell_type": "code",
   "execution_count": 70,
   "metadata": {},
   "outputs": [
    {
     "name": "stdout",
     "output_type": "stream",
     "text": [
      "0.6219505788803905\n"
     ]
    }
   ],
   "source": [
    "xd_test = df1.iloc[:50000,1:-1].values\n",
    "yd_test = df1.iloc[:50000,-1].values\n",
    "x_test = np.array(xd_test)\n",
    "y_test = np.array(yd_test)\n",
    "r2score = r2Score(w,x_test,y_test)\n",
    "print(r2score)"
   ]
  },
  {
   "cell_type": "code",
   "execution_count": null,
   "metadata": {},
   "outputs": [],
   "source": []
  }
 ],
 "metadata": {
  "kernelspec": {
   "display_name": "Python [conda env:col341_test]",
   "language": "python",
   "name": "conda-env-col341_test-py"
  },
  "language_info": {
   "codemirror_mode": {
    "name": "ipython",
    "version": 3
   },
   "file_extension": ".py",
   "mimetype": "text/x-python",
   "name": "python",
   "nbconvert_exporter": "python",
   "pygments_lexer": "ipython3",
   "version": "3.9.6"
  }
 },
 "nbformat": 4,
 "nbformat_minor": 2
}
